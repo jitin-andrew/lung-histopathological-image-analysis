{
 "cells": [
  {
   "cell_type": "code",
   "execution_count": 2,
   "id": "610911f5",
   "metadata": {},
   "outputs": [
    {
     "name": "stdout",
     "output_type": "stream",
     "text": [
      "Collecting flask\n",
      "  Downloading Flask-2.3.2-py3-none-any.whl (96 kB)\n",
      "     ---------------------------------------- 0.0/96.9 kB ? eta -:--:--\n",
      "     ------------ ------------------------- 30.7/96.9 kB 660.6 kB/s eta 0:00:01\n",
      "     ------------------------ ------------- 61.4/96.9 kB 656.4 kB/s eta 0:00:01\n",
      "     ------------------------------------ - 92.2/96.9 kB 751.6 kB/s eta 0:00:01\n",
      "     -------------------------------------- 96.9/96.9 kB 614.4 kB/s eta 0:00:00\n",
      "Collecting Werkzeug>=2.3.3 (from flask)\n",
      "  Obtaining dependency information for Werkzeug>=2.3.3 from https://files.pythonhosted.org/packages/ba/d6/8040faecaba2feb84e1647af174b3243c9b90c163c7ea407820839931efe/Werkzeug-2.3.6-py3-none-any.whl.metadata\n",
      "  Downloading Werkzeug-2.3.6-py3-none-any.whl.metadata (4.1 kB)\n",
      "Requirement already satisfied: Jinja2>=3.1.2 in c:\\users\\steve\\anaconda3\\envs\\myenv\\lib\\site-packages (from flask) (3.1.2)\n",
      "Collecting itsdangerous>=2.1.2 (from flask)\n",
      "  Downloading itsdangerous-2.1.2-py3-none-any.whl (15 kB)\n",
      "Requirement already satisfied: click>=8.1.3 in c:\\users\\steve\\anaconda3\\envs\\myenv\\lib\\site-packages (from flask) (8.1.6)\n",
      "Requirement already satisfied: blinker>=1.6.2 in c:\\users\\steve\\anaconda3\\envs\\myenv\\lib\\site-packages (from flask) (1.6.2)\n",
      "Requirement already satisfied: colorama in c:\\users\\steve\\anaconda3\\envs\\myenv\\lib\\site-packages (from click>=8.1.3->flask) (0.4.6)\n",
      "Requirement already satisfied: MarkupSafe>=2.0 in c:\\users\\steve\\anaconda3\\envs\\myenv\\lib\\site-packages (from Jinja2>=3.1.2->flask) (2.1.1)\n",
      "Downloading Werkzeug-2.3.6-py3-none-any.whl (242 kB)\n",
      "   ---------------------------------------- 0.0/242.5 kB ? eta -:--:--\n",
      "   - -------------------------------------- 10.2/242.5 kB ? eta -:--:--\n",
      "   ----------------------- ---------------- 143.4/242.5 kB 2.1 MB/s eta 0:00:01\n",
      "   -------------------------------------- - 235.5/242.5 kB 1.8 MB/s eta 0:00:01\n",
      "   ---------------------------------------- 242.5/242.5 kB 1.6 MB/s eta 0:00:00\n",
      "Installing collected packages: Werkzeug, itsdangerous, flask\n",
      "  Attempting uninstall: Werkzeug\n",
      "    Found existing installation: Werkzeug 2.1.2\n",
      "    Uninstalling Werkzeug-2.1.2:\n",
      "      Successfully uninstalled Werkzeug-2.1.2\n",
      "Successfully installed Werkzeug-2.3.6 flask-2.3.2 itsdangerous-2.1.2\n"
     ]
    },
    {
     "name": "stderr",
     "output_type": "stream",
     "text": [
      "ERROR: pip's dependency resolver does not currently take into account all the packages that are installed. This behaviour is the source of the following dependency conflicts.\n",
      "tensorflow 2.10.0 requires libclang>=13.0.0, which is not installed.\n",
      "tensorflow 2.10.0 requires tensorflow-io-gcs-filesystem>=0.23.1, which is not installed.\n",
      "tensorboard 2.10.0 requires protobuf<3.20,>=3.9.2, but you have protobuf 3.20.3 which is incompatible.\n",
      "tensorflow 2.10.0 requires protobuf<3.20,>=3.9.2, but you have protobuf 3.20.3 which is incompatible.\n"
     ]
    }
   ],
   "source": [
    "!pip install flask"
   ]
  },
  {
   "cell_type": "code",
   "execution_count": null,
   "id": "9f442f7e",
   "metadata": {},
   "outputs": [
    {
     "name": "stdout",
     "output_type": "stream",
     "text": [
      " * Serving Flask app '__main__'\n",
      " * Debug mode: on\n"
     ]
    },
    {
     "name": "stderr",
     "output_type": "stream",
     "text": [
      "WARNING: This is a development server. Do not use it in a production deployment. Use a production WSGI server instead.\n",
      " * Running on http://127.0.0.1:5000\n",
      "Press CTRL+C to quit\n",
      "127.0.0.1 - - [26/Jul/2023 22:31:27] \"GET / HTTP/1.1\" 200 -\n"
     ]
    },
    {
     "name": "stdout",
     "output_type": "stream",
     "text": [
      "1/1 [==============================] - 4s 4s/step\n"
     ]
    },
    {
     "name": "stderr",
     "output_type": "stream",
     "text": [
      "127.0.0.1 - - [26/Jul/2023 22:31:40] \"POST /predict HTTP/1.1\" 200 -\n"
     ]
    }
   ],
   "source": [
    "import os\n",
    "from flask import Flask, request, render_template\n",
    "from werkzeug.utils import secure_filename\n",
    "import tensorflow as tf\n",
    "import numpy as np\n",
    "from tensorflow.keras.preprocessing import image\n",
    "\n",
    "app = Flask(__name__)\n",
    "model = tf.keras.models.load_model(\"cancer.h5\")\n",
    "class_names = ['lung_aca','lung_n','lung_scc']\n",
    "\n",
    "@app.route('/')\n",
    "def hello():\n",
    "    return render_template('main.html')\n",
    "\n",
    "@app.route('/index')\n",
    "def home():\n",
    "    return render_template('index.html')\n",
    "\n",
    "@app.route('/predict', methods=['POST'])\n",
    "def predict():\n",
    "    if request.method == 'POST':\n",
    "        f = request.files['image']\n",
    "        filename = secure_filename(f.filename)\n",
    "        file_path = os.path.join(app.root_path, 'uploads', filename)\n",
    "        f.save(file_path)\n",
    "        \n",
    "        img = image.load_img(file_path, target_size=(768, 768))\n",
    "        x = image.img_to_array(img)\n",
    "        x = np.expand_dims(x, axis=0)\n",
    "        x = x / 255.0  # Normalize the image\n",
    "        \n",
    "        predictions = model.predict(x)\n",
    "        predicted_class_index = np.argmax(predictions[0])\n",
    "        predicted_class = class_names[predicted_class_index]\n",
    "        \n",
    "        result = f\"The analysed category is {predicted_class}\"\n",
    "        return render_template('result.html', result=result)\n",
    "    \n",
    "        response = make_response(f'File \"{uploaded_file.filename}\" uploaded successfully.')\n",
    "        response.headers['Cache-Control'] = 'no-cache, no-store, must-revalidate'\n",
    "        response.headers['Pragma'] = 'no-cache'\n",
    "        response.headers['Expires'] = '0'\n",
    "\n",
    "        return response\n",
    "\n",
    "\n",
    "if __name__ == '__main__':\n",
    "    app.run(debug=True,use_reloader=False)"
   ]
  }
 ],
 "metadata": {
  "kernelspec": {
   "display_name": "Python 3 (ipykernel)",
   "language": "python",
   "name": "python3"
  },
  "language_info": {
   "codemirror_mode": {
    "name": "ipython",
    "version": 3
   },
   "file_extension": ".py",
   "mimetype": "text/x-python",
   "name": "python",
   "nbconvert_exporter": "python",
   "pygments_lexer": "ipython3",
   "version": "3.10.12"
  }
 },
 "nbformat": 4,
 "nbformat_minor": 5
}
